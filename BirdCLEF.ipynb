{
 "cells": [
  {
   "attachments": {},
   "cell_type": "markdown",
   "metadata": {},
   "source": [
    "# Imports"
   ]
  },
  {
   "cell_type": "code",
   "execution_count": null,
   "metadata": {},
   "outputs": [],
   "source": [
    "import numpy as np\n",
    "import pandas as pd\n",
    "import matplotlib.pyplot as plt\n",
    "\n",
    "import torch\n",
    "from torch import nn"
   ]
  },
  {
   "cell_type": "code",
   "execution_count": null,
   "metadata": {},
   "outputs": [],
   "source": [
    "#Attempt at a dynamic CNN model creater class, probably need to add maxpool and relu for final edition\n",
    "class Dynamic_CNN(nn.Module):\n",
    "    def __init__(self, in_dim, out_dim, layers):\n",
    "        super(Dynamic_CNN, self).__init__()\n",
    "        self.in_dim = in_dim\n",
    "        self.out_dim = out_dim\n",
    "        self.layers = layers\n",
    "        \n",
    "        self.layers = nn.ModuleList()\n",
    "        in_chan = in_dim\n",
    "\n",
    "        for out_chan, kernel_size in layers:\n",
    "            conv_layer = nn.Conv2d(in_chan, out_chan, kernel_size)\n",
    "            self.layers.append(conv_layer)\n",
    "            in_chan = out_chan\n",
    "        \n",
    "        self.fc = nn.Linear(in_chan, out_dim)\n",
    "    \n",
    "    def forward(self, x):\n",
    "        for layer in self.layers:\n",
    "            x = layer(x)\n",
    "            x = nn.functional.relu(x)\n",
    "        \n",
    "        x = torch.flatten(x, 1)\n",
    "        x = self.fc(x)\n",
    "        return x"
   ]
  }
 ],
 "metadata": {
  "kernelspec": {
   "display_name": "AML",
   "language": "python",
   "name": "python3"
  },
  "language_info": {
   "name": "python",
   "version": "3.8.16"
  },
  "orig_nbformat": 4
 },
 "nbformat": 4,
 "nbformat_minor": 2
}
