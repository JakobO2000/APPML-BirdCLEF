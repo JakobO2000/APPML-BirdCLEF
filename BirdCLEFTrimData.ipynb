{
 "cells": [
  {
   "cell_type": "code",
   "execution_count": 1,
   "metadata": {},
   "outputs": [],
   "source": [
    "import numpy as np\n",
    "import pandas as pd\n",
    "from birdCLEFloaddata import load_metadata"
   ]
  },
  {
   "cell_type": "code",
   "execution_count": 27,
   "metadata": {},
   "outputs": [],
   "source": [
    "#load metadata\n",
    "path = r\"D:\\KU\\Masters\\AppML\\APPML-BirdCLEF\\data\"\n",
    "meta_data = load_metadata(path)\n",
    "\n",
    "\n",
    "max_num_files = 100     #The maximum number of files for a single species\n",
    "meta_data_trim = pd.DataFrame(columns=meta_data.columns)    #New trimmed metadata dataframe\n",
    "for name in set(meta_data['common_name'].unique()):\n",
    "    count = meta_data.loc[meta_data['common_name']==name].shape[0]\n",
    "    if count > max_num_files:\n",
    "        sampled_rows = meta_data.loc[meta_data['common_name']==name].sample(n=max_num_files, random_state=42)\n",
    "        meta_data_trim = pd.concat([meta_data_trim, sampled_rows], ignore_index=True)\n",
    "    else:\n",
    "        meta_data_trim = pd.concat([meta_data_trim, meta_data.loc[meta_data['common_name']==name]], ignore_index=True)\n",
    "\n",
    "    \n",
    "    "
   ]
  },
  {
   "cell_type": "code",
   "execution_count": 30,
   "metadata": {},
   "outputs": [],
   "source": [
    "meta_data_trim.to_csv(path+\"/train_metadata_trim.csv\")"
   ]
  }
 ],
 "metadata": {
  "kernelspec": {
   "display_name": "APP_ML",
   "language": "python",
   "name": "python3"
  },
  "language_info": {
   "codemirror_mode": {
    "name": "ipython",
    "version": 3
   },
   "file_extension": ".py",
   "mimetype": "text/x-python",
   "name": "python",
   "nbconvert_exporter": "python",
   "pygments_lexer": "ipython3",
   "version": "3.8.16"
  },
  "orig_nbformat": 4
 },
 "nbformat": 4,
 "nbformat_minor": 2
}
