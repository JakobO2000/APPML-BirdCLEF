{
 "cells": [
  {
   "attachments": {},
   "cell_type": "markdown",
   "metadata": {},
   "source": [
    "# Imports"
   ]
  },
  {
   "cell_type": "code",
   "execution_count": 1,
   "metadata": {},
   "outputs": [],
   "source": [
    "import numpy as np\n",
    "import pandas as pd\n",
    "import matplotlib.pyplot as plt\n",
    "\n",
    "import torch\n",
    "from torch import nn\n",
    "from torchsummary import summary"
   ]
  },
  {
   "cell_type": "code",
   "execution_count": 11,
   "metadata": {},
   "outputs": [],
   "source": [
    "#Attempt at a dynamic CNN model creater class, probably need to add maxpool and relu for final edition\n",
    "class Dynamic_CNN(nn.Module):\n",
    "    def __init__(self, in_dim, out_dim, layers):\n",
    "        super(Dynamic_CNN, self).__init__()\n",
    "        self.in_dim = in_dim\n",
    "        self.out_dim = out_dim\n",
    "        self.layers = layers\n",
    "        \n",
    "        self.layers = nn.ModuleList()\n",
    "        in_chan = in_dim\n",
    "\n",
    "        for out_chan, kernel_size in layers:\n",
    "            conv_layer = nn.Sequential(\n",
    "                            nn.Conv2d(in_chan, out_chan, kernel_size),\n",
    "                            nn.ReLU(),\n",
    "                            nn.MaxPool2d(kernel_size=kernel_size))\n",
    "            self.layers.append(conv_layer)\n",
    "            in_chan = out_chan\n",
    "        \n",
    "        self.fc = nn.Linear(in_chan, out_dim)\n",
    "    \n",
    "    def forward(self, x):\n",
    "        for layer in self.layers:\n",
    "            x = layer(x)\n",
    "            x = nn.functional.relu(x)\n",
    "        \n",
    "        x = torch.flatten(x, 1)\n",
    "        x = self.fc(x)\n",
    "        return x"
   ]
  },
  {
   "cell_type": "code",
   "execution_count": 31,
   "metadata": {},
   "outputs": [
    {
     "name": "stdout",
     "output_type": "stream",
     "text": [
      "----------------------------------------------------------------\n",
      "        Layer (type)               Output Shape         Param #\n",
      "================================================================\n",
      "            Conv2d-1          [-1, 100, 16, 16]          18,100\n",
      "              ReLU-2          [-1, 100, 16, 16]               0\n",
      "         MaxPool2d-3            [-1, 100, 5, 5]               0\n",
      "            Conv2d-4            [-1, 100, 3, 3]          90,100\n",
      "              ReLU-5            [-1, 100, 3, 3]               0\n",
      "         MaxPool2d-6            [-1, 100, 1, 1]               0\n",
      "            Linear-7                   [-1, 10]           1,010\n",
      "================================================================\n",
      "Total params: 109,210\n",
      "Trainable params: 109,210\n",
      "Non-trainable params: 0\n",
      "----------------------------------------------------------------\n",
      "Input size (MB): 0.02\n",
      "Forward/backward pass size (MB): 0.42\n",
      "Params size (MB): 0.42\n",
      "Estimated Total Size (MB): 0.87\n",
      "----------------------------------------------------------------\n"
     ]
    }
   ],
   "source": [
    "in_dim = 20\n",
    "out_dim = 10\n",
    "hidden_layers = [(100, 3), (100, 3)]\n",
    "\n",
    "testmodel = Dynamic_CNN(in_dim, out_dim, hidden_layers)\n",
    "summary(testmodel,(in_dim,18,18))\n",
    "\n"
   ]
  },
  {
   "cell_type": "code",
   "execution_count": null,
   "metadata": {},
   "outputs": [],
   "source": []
  }
 ],
 "metadata": {
  "kernelspec": {
   "display_name": "AML",
   "language": "python",
   "name": "python3"
  },
  "language_info": {
   "codemirror_mode": {
    "name": "ipython",
    "version": 3
   },
   "file_extension": ".py",
   "mimetype": "text/x-python",
   "name": "python",
   "nbconvert_exporter": "python",
   "pygments_lexer": "ipython3",
   "version": "3.8.16"
  },
  "orig_nbformat": 4
 },
 "nbformat": 4,
 "nbformat_minor": 2
}
