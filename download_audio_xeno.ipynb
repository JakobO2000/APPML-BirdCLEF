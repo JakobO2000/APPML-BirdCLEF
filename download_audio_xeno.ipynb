{
 "cells": [
  {
   "cell_type": "code",
   "execution_count": 1,
   "metadata": {},
   "outputs": [],
   "source": [
    "path = r\"D:\\KU\\Masters\\AppML\\APPML-BirdCLEF\\data\\train_metadata.csv\""
   ]
  },
  {
   "attachments": {},
   "cell_type": "markdown",
   "metadata": {},
   "source": [
    "# Crested Francolin"
   ]
  },
  {
   "cell_type": "code",
   "execution_count": 2,
   "metadata": {},
   "outputs": [],
   "source": [
    "#primary_label,secondary_labels,type,latitude,longitude,scientific_name,common_name,author,license,rating,url,filename      taken=XC667443\n",
    "primary = \"crefra2\"\n",
    "secondary = \"[]\"\n",
    "type_sound = [\"['alarm call']\", \"['song']\", \"['song', 'call']\", \"['call']\"]\n",
    "lat = [\t-24.3834, -23.9513, 8.898257, -0.712]\n",
    "long = [30.9334, 29.4735, 40.058013, 29.6301]\n",
    "scientific_name = \"Ortygornis sephaena\"\n",
    "common_name = \"Crested Francolin\"\n",
    "author = [\"Derek Solomon\", \"Frank Lambert\", \"Peter Boesman\", \"Peter Boesman\"]\n",
    "license_audio = [\"Creative Commons Attribution-NonCommercial-ShareAlike 4.0\", \"Creative Commons Attribution-NonCommercial-NoDerivs 4.0\", \"Creative Commons Attribution-NonCommercial-NoDerivs 4.0\", \"Creative Commons Attribution-NonCommercial-NoDerivs 4.0\"]\n",
    "rating = [5.0, 5.0, 5.0, 4.0]\n",
    "url = [\"https://xeno-canto.org/659847\", \"https://xeno-canto.org/516136\", \"https://xeno-canto.org/300242\", \"https://xeno-canto.org/739639\"]\n",
    "filename = [primary+\"/XC659847.ogg\", primary+\"/XC516136.ogg\", primary+\"/XC300242.ogg\", primary+\"/XC739639.ogg\"]\n",
    "\n",
    "# with open(path, \"a\") as file:\n",
    "#     for i in range(4):\n",
    "#         file.write(primary+\",\"+secondary+\",\"+type_sound[i]+\",\"+str(lat[i])+\",\"+str(long[i])+\",\"+scientific_name+\",\"+common_name+\",\"+author[i]+\",\"+license_audio[i]+\",\"+str(rating[i])+\",\"+url[i]+\",\"+filename[i]+\"\\n\")\n"
   ]
  },
  {
   "attachments": {},
   "cell_type": "markdown",
   "metadata": {},
   "source": [
    "# African Pygmy Kingfisher "
   ]
  },
  {
   "cell_type": "code",
   "execution_count": 3,
   "metadata": {},
   "outputs": [],
   "source": [
    "#primary_label,secondary_labels,type,latitude,longitude,scientific_name,common_name,author,license,rating,url,filename      \n",
    "primary = \"afpkin1\"\n",
    "secondary = \"[]\"\n",
    "type_sound = [\"['call', 'duet']\", \"['call']\", \"['song', 'call']\", \"['call']\"]\n",
    "lat = [13.298, 13.2804, 11.8047, 6.2234]\n",
    "long = [-16.565, -16.5512, 13.1966, -0.5258]\n",
    "scientific_name = \"Ispidina picta\"\n",
    "common_name = \"African Pygmy Kingfisher\"\n",
    "author = [\"Joost van Bruggen\", \"Peter Boesman\", \"Sun Madakan\", \"Peter Boesman\"]\n",
    "license_audio = [\"Creative Commons Attribution-NonCommercial-NoDerivs 4.0\", \"Creative Commons Attribution-NonCommercial-NoDerivs 4.0\", \"Creative Commons Attribution-NonCommercial-ShareAlike 4.0\", \"Creative Commons Attribution-NonCommercial-NoDerivs 4.0\"]\n",
    "rating = [5.0, 5.0, 4.0, 5.0]\n",
    "url = [\"https://xeno-canto.org/690412\", \"https://xeno-canto.org/425617\", \"https://xeno-canto.org/660983\", \"https://xeno-canto.org/719220\"]\n",
    "filename = [primary+\"/XC690412.ogg\", primary+\"/XC425617.ogg\", primary+\"/XC660983.ogg\", primary+\"/XC719220.ogg\"]\n",
    "\n",
    "# with open(path, \"a\") as file:\n",
    "#     for i in range(4):\n",
    "#         file.write(primary+\",\"+secondary+\",\"+type_sound[i]+\",\"+str(lat[i])+\",\"+str(long[i])+\",\"+scientific_name+\",\"+common_name+\",\"+author[i]+\",\"+license_audio[i]+\",\"+str(rating[i])+\",\"+url[i]+\",\"+filename[i]+\"\\n\")"
   ]
  },
  {
   "attachments": {},
   "cell_type": "markdown",
   "metadata": {},
   "source": [
    "# White-headed Sawwing (only one recording exist on xeno-canto)"
   ]
  },
  {
   "attachments": {},
   "cell_type": "markdown",
   "metadata": {},
   "source": [
    "# White-crested Turaco (3 recordings on xeno-canto)"
   ]
  },
  {
   "cell_type": "code",
   "execution_count": 4,
   "metadata": {},
   "outputs": [],
   "source": [
    "#primary_label,secondary_labels,type,latitude,longitude,scientific_name,common_name,author,license,rating,url,filename      \n",
    "primary = \"whctur2\"\n",
    "secondary = \"[]\"\n",
    "type_sound = [\"['song']\", \"['song']\"]\n",
    "lat = [0.457, 2.44932]\n",
    "long = [35.6481, 31.51391]\n",
    "scientific_name = \"Tauraco leucolophus\"\n",
    "common_name = \"White-crested Turaco\"\n",
    "author = [\"James and David Bradley\", \"Peter Boesman\"]\n",
    "license_audio = [\"Creative Commons Attribution-NonCommercial-NoDerivs 2.5\", \"Creative Commons Attribution-NonCommercial-NoDerivs 4.0\"]\n",
    "rating = [4.0, 5.0]\n",
    "url = [\"https://xeno-canto.org/101222\", \"https://xeno-canto.org/740023\"]\n",
    "filename = [primary+\"/XC101222.ogg\", primary+\"/XC740023.ogg\"]\n",
    "\n",
    "with open(path, \"a\") as file:\n",
    "    for i in range(2):\n",
    "        file.write(primary+\",\"+secondary+\",\"+type_sound[i]+\",\"+str(lat[i])+\",\"+str(long[i])+\",\"+scientific_name+\",\"+common_name+\",\"+author[i]+\",\"+license_audio[i]+\",\"+str(rating[i])+\",\"+url[i]+\",\"+filename[i]+\"\\n\")"
   ]
  },
  {
   "attachments": {},
   "cell_type": "markdown",
   "metadata": {},
   "source": [
    "# Long-tailed Cormorant (3 recordings on xeno-canto)"
   ]
  },
  {
   "cell_type": "code",
   "execution_count": 5,
   "metadata": {},
   "outputs": [],
   "source": [
    "#primary_label,secondary_labels,type,latitude,longitude,scientific_name,common_name,author,license,rating,url,filename      \n",
    "primary = \"lotcor1\"\n",
    "secondary = \"[]\"\n",
    "type_sound = [\"['call']\", \"['call']\"]\n",
    "lat = [-3.4166, 7.0496]\n",
    "long = [35.8349, 38.4645]\n",
    "scientific_name = \"Microcarbo africanus\"\n",
    "common_name = \"Long-tailed Cormorant\"\n",
    "author = [\"Frank Lambert\", \"Andrew Spencer\"]\n",
    "license_audio = [\"Creative Commons Attribution-NonCommercial-NoDerivs 4.0\", \"Creative Commons Attribution-NonCommercial-NoDerivs 4.0\"]\n",
    "rating = [4.0, 4.0]\n",
    "url = [\"https://xeno-canto.org/429551\", \"https://xeno-canto.org/292041\"]\n",
    "filename = [primary+\"/XC429551.ogg\", primary+\"/XC292041.ogg\"]\n",
    "\n",
    "with open(path, \"a\") as file:\n",
    "    for i in range(2):\n",
    "        file.write(primary+\",\"+secondary+\",\"+type_sound[i]+\",\"+str(lat[i])+\",\"+str(long[i])+\",\"+scientific_name+\",\"+common_name+\",\"+author[i]+\",\"+license_audio[i]+\",\"+str(rating[i])+\",\"+url[i]+\",\"+filename[i]+\"\\n\")"
   ]
  },
  {
   "attachments": {},
   "cell_type": "markdown",
   "metadata": {},
   "source": [
    "# Yellow-billed Stork (2 recordings on xeno-canto)"
   ]
  },
  {
   "cell_type": "code",
   "execution_count": 6,
   "metadata": {},
   "outputs": [],
   "source": [
    "#primary_label,secondary_labels,type,latitude,longitude,scientific_name,common_name,author,license,rating,url,filename      \n",
    "primary = \"yebsto1\"\n",
    "secondary = \"[]\"\n",
    "type_sound = [\"['call']\"]\n",
    "lat = [0.3584]\n",
    "long = [36.0509]\n",
    "scientific_name = \"Mycteria ibis\"\n",
    "common_name = \"Yellow-billed Stork\"\n",
    "author = [\"Fernand DEROUSSEN\"]\n",
    "license_audio = [\"Creative Commons Attribution-NonCommercial-NoDerivs 3.0\"]\n",
    "rating = [5.0]\n",
    "url = [\"https://xeno-canto.org/131912\"]\n",
    "filename = [primary+\"/XC131912.ogg\"]\n",
    "\n",
    "with open(path, \"a\") as file:\n",
    "    for i in range(1):\n",
    "        file.write(primary+\",\"+secondary+\",\"+type_sound[i]+\",\"+str(lat[i])+\",\"+str(long[i])+\",\"+scientific_name+\",\"+common_name+\",\"+author[i]+\",\"+license_audio[i]+\",\"+str(rating[i])+\",\"+url[i]+\",\"+filename[i]+\"\\n\")"
   ]
  },
  {
   "attachments": {},
   "cell_type": "markdown",
   "metadata": {},
   "source": [
    "# Brown-tailed Chat "
   ]
  },
  {
   "cell_type": "code",
   "execution_count": 7,
   "metadata": {},
   "outputs": [],
   "source": [
    "#primary_label,secondary_labels,type,latitude,longitude,scientific_name,common_name,author,license,rating,url,filename      \n",
    "primary = \"brtcha1\"\n",
    "secondary = \"[]\"\n",
    "type_sound = [\"['song']\", \"['song']\", \"['song', 'call']\", \"['song']\"]\n",
    "lat = [6.906, 6.906, 6.904187, 0.6155]\n",
    "long = [40.85, 40.85, 40.852239, 0.6155]\n",
    "scientific_name = \"Oenanthe scotocerca\"\n",
    "common_name = \"Brown-tailed Chat\"\n",
    "author = [\"Andrew Spencer\", \"Andrew Spencer\", \"Peter Boesman\", \"Frank Lambert\"]\n",
    "license_audio = [\"Creative Commons Attribution-NonCommercial-NoDerivs 4.0\", \"Creative Commons Attribution-NonCommercial-NoDerivs 4.0\", \"Creative Commons Attribution-NonCommercial-NoDerivs 4.0\", \"Creative Commons Attribution-NonCommercial-NoDerivs 4.0\"]\n",
    "rating = [5.0, 5.0, 5.0, 5.0]\n",
    "url = [\"https://xeno-canto.org/276884\", \"https://xeno-canto.org/276888\", \"https://xeno-canto.org/300503\", \"https://xeno-canto.org/451545\"]\n",
    "filename = [primary+\"/XC276884.ogg\", primary+\"/XC276888.ogg\", primary+\"/XC300503.ogg\", primary+\"/XC451545.ogg\"]\n",
    "\n",
    "with open(path, \"a\") as file:\n",
    "    for i in range(4):\n",
    "        file.write(primary+\",\"+secondary+\",\"+type_sound[i]+\",\"+str(lat[i])+\",\"+str(long[i])+\",\"+scientific_name+\",\"+common_name+\",\"+author[i]+\",\"+license_audio[i]+\",\"+str(rating[i])+\",\"+url[i]+\",\"+filename[i]+\"\\n\")"
   ]
  },
  {
   "attachments": {},
   "cell_type": "markdown",
   "metadata": {},
   "source": [
    "# Brown-capped Weaver"
   ]
  },
  {
   "cell_type": "code",
   "execution_count": 8,
   "metadata": {},
   "outputs": [],
   "source": [
    "#primary_label,secondary_labels,type,latitude,longitude,scientific_name,common_name,author,license,rating,url,filename      \n",
    "primary = \"brcwea1\"\n",
    "secondary = \"[]\"\n",
    "type_sound = [\"['call']\", \"[]\", \"['call']\"]\n",
    "lat = [-0.3801, -0.3801, -0.989]\n",
    "long = [37.3106, 37.3106, 29.616]\n",
    "scientific_name = \"Ploceus insignis\"\n",
    "common_name = \"Brown-capped Weaver\"\n",
    "author = [\"Frank Lambert\", \"Frank Lambert\", \"Peter Boesman\"]\n",
    "license_audio = [\"Creative Commons Attribution-NonCommercial-NoDerivs 4.0\", \"Creative Commons Attribution-NonCommercial-NoDerivs 4.0\", \"Creative Commons Attribution-NonCommercial-NoDerivs 4.0\"]\n",
    "rating = [5.0, 5.0, 3.0]\n",
    "url = [\"https://xeno-canto.org/450386\", \"https://xeno-canto.org/450388\", \"https://xeno-canto.org/739921\"]\n",
    "filename = [primary+\"/XC450386.ogg\", primary+\"/XC450388.ogg\", primary+\"/XC739921.ogg\"]\n",
    "\n",
    "with open(path, \"a\") as file:\n",
    "    for i in range(3):\n",
    "        file.write(primary+\",\"+secondary+\",\"+type_sound[i]+\",\"+str(lat[i])+\",\"+str(long[i])+\",\"+scientific_name+\",\"+common_name+\",\"+author[i]+\",\"+license_audio[i]+\",\"+str(rating[i])+\",\"+url[i]+\",\"+filename[i]+\"\\n\")"
   ]
  },
  {
   "attachments": {},
   "cell_type": "markdown",
   "metadata": {},
   "source": [
    "# Goliath Heron (Only 2 recordings exist on xeno-canto)"
   ]
  },
  {
   "attachments": {},
   "cell_type": "markdown",
   "metadata": {},
   "source": [
    "# Red-headed Bluebill (3 recordings exist on xeno-canto)"
   ]
  },
  {
   "cell_type": "code",
   "execution_count": 9,
   "metadata": {},
   "outputs": [],
   "source": [
    "#primary_label,secondary_labels,type,latitude,longitude,scientific_name,common_name,author,license,rating,url,filename      \n",
    "primary = \"rehblu1\"\n",
    "secondary = \"[]\"\n",
    "type_sound = [\"['call']\"]\n",
    "lat = [-0.989]\n",
    "long = [29.616]\n",
    "scientific_name = \"Spermophaga ruficapilla\"\n",
    "common_name = \"Red-headed Bluebill\"\n",
    "author = [\"Peter Boesman\"]\n",
    "license_audio = [\"Creative Commons Attribution-NonCommercial-NoDerivs 4.0\"]\n",
    "rating = [5.0]\n",
    "url = [\"https://xeno-canto.org/740001\"]\n",
    "filename = [primary+\"/XC740001.ogg\"]\n",
    "\n",
    "with open(path, \"a\") as file:\n",
    "    for i in range(1):\n",
    "        file.write(primary+\",\"+secondary+\",\"+type_sound[i]+\",\"+str(lat[i])+\",\"+str(long[i])+\",\"+scientific_name+\",\"+common_name+\",\"+author[i]+\",\"+license_audio[i]+\",\"+str(rating[i])+\",\"+url[i]+\",\"+filename[i]+\"\\n\")"
   ]
  },
  {
   "attachments": {},
   "cell_type": "markdown",
   "metadata": {},
   "source": [
    "# Shelley's Starling"
   ]
  },
  {
   "cell_type": "code",
   "execution_count": 10,
   "metadata": {},
   "outputs": [],
   "source": [
    "#primary_label,secondary_labels,type,latitude,longitude,scientific_name,common_name,author,license,rating,url,filename      \n",
    "primary = \"shesta1\"\n",
    "secondary = \"[]\"\n",
    "type_sound = [\"['call']\", \"['call']\"]\n",
    "lat = [4.714186, 4.714186]\n",
    "long = [39.175239, 39.175239]\n",
    "scientific_name = \"Lamprotornis shelleyi\"\n",
    "common_name = \"Shelley's Starling\"\n",
    "author = [\"Peter Boesman\", \"Peter Boesman\"]\n",
    "license_audio = [\"Creative Commons Attribution-NonCommercial-NoDerivs 4.0\", \"Creative Commons Attribution-NonCommercial-NoDerivs 4.0\"]\n",
    "rating = [4.0, 5.0]\n",
    "url = [\"https://xeno-canto.org/300369\", \"https://xeno-canto.org/300370\"]\n",
    "filename = [primary+\"/XC300369.ogg\", primary+\"/XC300370.ogg\"]\n",
    "\n",
    "with open(path, \"a\") as file:\n",
    "    for i in range(2):\n",
    "        file.write(primary+\",\"+secondary+\",\"+type_sound[i]+\",\"+str(lat[i])+\",\"+str(long[i])+\",\"+scientific_name+\",\"+common_name+\",\"+author[i]+\",\"+license_audio[i]+\",\"+str(rating[i])+\",\"+url[i]+\",\"+filename[i]+\"\\n\")"
   ]
  },
  {
   "attachments": {},
   "cell_type": "markdown",
   "metadata": {},
   "source": [
    "# Bristle-crowned Starling"
   ]
  },
  {
   "cell_type": "code",
   "execution_count": 11,
   "metadata": {},
   "outputs": [],
   "source": [
    "#primary_label,secondary_labels,type,latitude,longitude,scientific_name,common_name,author,license,rating,url,filename      \n",
    "primary = \"brcsta1\"\n",
    "secondary = \"[]\"\n",
    "type_sound = [\"['song']\", \"['call', 'song']\"]\n",
    "lat = [0.6197, \"N/A\"]\n",
    "long = [36.0274, \"N/A\"]\n",
    "scientific_name = \"Onychognathus salvadorii\"\n",
    "common_name = \"Bristle-crowned Starling\"\n",
    "author = [\"Magnus Wadstein\", \"Brendan Sloan\"]\n",
    "license_audio = [\"Creative Commons Attribution-NonCommercial-ShareAlike 4.0\", \"Creative Commons Attribution-NonCommercial-NoDerivs 4.0\"]\n",
    "rating = [5.0, 5.0]\n",
    "url = [\"https://xeno-canto.org/771983\", \"https://xeno-canto.org/796377\"]\n",
    "filename = [primary+\"/XC771983.ogg\", primary+\"/XC796377.ogg\"]\n",
    "\n",
    "with open(path, \"a\") as file:\n",
    "    for i in range(2):\n",
    "        file.write(primary+\",\"+secondary+\",\"+type_sound[i]+\",\"+str(lat[i])+\",\"+str(long[i])+\",\"+scientific_name+\",\"+common_name+\",\"+author[i]+\",\"+license_audio[i]+\",\"+str(rating[i])+\",\"+url[i]+\",\"+filename[i]+\"\\n\")"
   ]
  },
  {
   "attachments": {},
   "cell_type": "markdown",
   "metadata": {},
   "source": [
    "# Double-toothed Barbet"
   ]
  },
  {
   "cell_type": "code",
   "execution_count": 12,
   "metadata": {},
   "outputs": [],
   "source": [
    "#primary_label,secondary_labels,type,latitude,longitude,scientific_name,common_name,author,license,rating,url,filename      \n",
    "primary = \"dotbar1\"\n",
    "secondary = \"[]\"\n",
    "type_sound = [\"['song']\", \"['song']\"]\n",
    "lat = [6.512, 0.409]\n",
    "long = [14.293, 30.403]\n",
    "scientific_name = \"Lybius bidentatus\"\n",
    "common_name = \"Double-toothed Barbet\"\n",
    "author = [\"Hans Slabbekoorn\", \"Andrew Spencer\"]\n",
    "license_audio = [\"Creative Commons Attribution-NonCommercial-NoDerivs 2.5\", \"Creative Commons Attribution-NonCommercial-NoDerivs 4.0\"]\n",
    "rating = [4.0, 5.0]\n",
    "url = [\"https://xeno-canto.org/100509\", \"https://xeno-canto.org/433610\"]\n",
    "filename = [primary+\"/XC100509.ogg\", primary+\"/XC433610.ogg\"]\n",
    "\n",
    "with open(path, \"a\") as file:\n",
    "    for i in range(2):\n",
    "        file.write(primary+\",\"+secondary+\",\"+type_sound[i]+\",\"+str(lat[i])+\",\"+str(long[i])+\",\"+scientific_name+\",\"+common_name+\",\"+author[i]+\",\"+license_audio[i]+\",\"+str(rating[i])+\",\"+url[i]+\",\"+filename[i]+\"\\n\")"
   ]
  },
  {
   "attachments": {},
   "cell_type": "markdown",
   "metadata": {},
   "source": [
    "# Golden-breasted Starling"
   ]
  },
  {
   "cell_type": "code",
   "execution_count": 13,
   "metadata": {},
   "outputs": [],
   "source": [
    "#primary_label,secondary_labels,type,latitude,longitude,scientific_name,common_name,author,license,rating,url,filename      \n",
    "primary = \"gobsta5\"\n",
    "secondary = \"[]\"\n",
    "type_sound = [\"['call']\"]\n",
    "lat = [-3.457]\n",
    "long = [38.618]\n",
    "scientific_name = \"Lamprotornis regius\"\n",
    "common_name = \"Golden-breasted Starling\"\n",
    "author = [\"James Bradley\"]\n",
    "license_audio = [\"Creative Commons Attribution-NonCommercial-NoDerivs 2.5\"]\n",
    "rating = [4.0]\n",
    "url = [\"https://xeno-canto.org/72988\"]\n",
    "filename = [primary+\"/XC72988.ogg\"]\n",
    "\n",
    "with open(path, \"a\") as file:\n",
    "    for i in range(1):\n",
    "        file.write(primary+\",\"+secondary+\",\"+type_sound[i]+\",\"+str(lat[i])+\",\"+str(long[i])+\",\"+scientific_name+\",\"+common_name+\",\"+author[i]+\",\"+license_audio[i]+\",\"+str(rating[i])+\",\"+url[i]+\",\"+filename[i]+\"\\n\")"
   ]
  },
  {
   "attachments": {},
   "cell_type": "markdown",
   "metadata": {},
   "source": [
    "# Long-toed Lapwing"
   ]
  },
  {
   "cell_type": "code",
   "execution_count": 14,
   "metadata": {},
   "outputs": [],
   "source": [
    "#primary_label,secondary_labels,type,latitude,longitude,scientific_name,common_name,author,license,rating,url,filename      \n",
    "primary = \"lotlap1\"\n",
    "secondary = \"[]\"\n",
    "type_sound = [\"['call']\", \"['call']\"]\n",
    "lat = [-3.4166, -18.200888]\n",
    "long = [35.8349, 21.735268]\n",
    "scientific_name = \"Vanellus crassirostris\"\n",
    "common_name = \"Long-toed Lapwing\"\n",
    "author = [\"Frank Lambert\", \"Peter Boesman\"]\n",
    "license_audio = [\"Creative Commons Attribution-NonCommercial-NoDerivs 4.0\", \"Creative Commons Attribution-NonCommercial-NoDerivs 4.0\"]\n",
    "rating = [5.0, 5.0]\n",
    "url = [\"https://xeno-canto.org/429516\", \"https://xeno-canto.org/347164\"]\n",
    "filename = [primary+\"/XC429516.ogg\", primary+\"/XC347164.ogg\"]\n",
    "\n",
    "with open(path, \"a\") as file:\n",
    "    for i in range(2):\n",
    "        file.write(primary+\",\"+secondary+\",\"+type_sound[i]+\",\"+str(lat[i])+\",\"+str(long[i])+\",\"+scientific_name+\",\"+common_name+\",\"+author[i]+\",\"+license_audio[i]+\",\"+str(rating[i])+\",\"+url[i]+\",\"+filename[i]+\"\\n\")"
   ]
  },
  {
   "attachments": {},
   "cell_type": "markdown",
   "metadata": {},
   "source": [
    "# Pale Prinia"
   ]
  },
  {
   "cell_type": "code",
   "execution_count": 15,
   "metadata": {},
   "outputs": [],
   "source": [
    "#primary_label,secondary_labels,type,latitude,longitude,scientific_name,common_name,author,license,rating,url,filename      \n",
    "primary = \"palpri1\"\n",
    "secondary = \"[]\"\n",
    "type_sound = [\"['song']\", \"['song']\"]\n",
    "lat = [4.52945, 4.52945]\n",
    "long = [38.265777, 38.265777]\n",
    "scientific_name = \"Prinia somalica\"\n",
    "common_name = \"Pale Prinia\"\n",
    "author = [\"Peter Boesman\", \"Peter Boesman\"]\n",
    "license_audio = [\"Creative Commons Attribution-NonCommercial-NoDerivs 4.0\", \"Creative Commons Attribution-NonCommercial-NoDerivs 4.0\"]\n",
    "rating = [5.0, 5.0]\n",
    "url = [\"https://xeno-canto.org/300608\", \"https://xeno-canto.org/300609\"]\n",
    "filename = [primary+\"/XC300608.ogg\", primary+\"/XC300609.ogg\"]\n",
    "\n",
    "with open(path, \"a\") as file:\n",
    "    for i in range(2):\n",
    "        file.write(primary+\",\"+secondary+\",\"+type_sound[i]+\",\"+str(lat[i])+\",\"+str(long[i])+\",\"+scientific_name+\",\"+common_name+\",\"+author[i]+\",\"+license_audio[i]+\",\"+str(rating[i])+\",\"+url[i]+\",\"+filename[i]+\"\\n\")"
   ]
  },
  {
   "attachments": {},
   "cell_type": "markdown",
   "metadata": {},
   "source": [
    "# Stuhlmann's Starling"
   ]
  },
  {
   "cell_type": "code",
   "execution_count": 16,
   "metadata": {},
   "outputs": [],
   "source": [
    "#primary_label,secondary_labels,type,latitude,longitude,scientific_name,common_name,author,license,rating,url,filename      \n",
    "primary = \"stusta1\"\n",
    "secondary = \"[]\"\n",
    "type_sound = [\"['song']\"]\n",
    "lat = [0.2268]\n",
    "long = [34.8846]\n",
    "scientific_name = \"Poeoptera stuhlmanni\"\n",
    "common_name = \"Stuhlmann's Starling\"\n",
    "author = [\"Frank Lambert\"]\n",
    "license_audio = [\"Creative Commons Attribution-NonCommercial-NoDerivs 4.0\"]\n",
    "rating = [4.0]\n",
    "url = [\"https://xeno-canto.org/451978\"]\n",
    "filename = [primary+\"/XC451978.ogg\"]\n",
    "\n",
    "with open(path, \"a\") as file:\n",
    "    for i in range(1):\n",
    "        file.write(primary+\",\"+secondary+\",\"+type_sound[i]+\",\"+str(lat[i])+\",\"+str(long[i])+\",\"+scientific_name+\",\"+common_name+\",\"+author[i]+\",\"+license_audio[i]+\",\"+str(rating[i])+\",\"+url[i]+\",\"+filename[i]+\"\\n\")"
   ]
  }
 ],
 "metadata": {
  "kernelspec": {
   "display_name": "APP_ML",
   "language": "python",
   "name": "python3"
  },
  "language_info": {
   "codemirror_mode": {
    "name": "ipython",
    "version": 3
   },
   "file_extension": ".py",
   "mimetype": "text/x-python",
   "name": "python",
   "nbconvert_exporter": "python",
   "pygments_lexer": "ipython3",
   "version": "3.8.16"
  },
  "orig_nbformat": 4
 },
 "nbformat": 4,
 "nbformat_minor": 2
}
